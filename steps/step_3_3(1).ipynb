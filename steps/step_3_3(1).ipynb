{
 "cells": [
  {
   "cell_type": "code",
   "execution_count": 1,
   "id": "9aead7de",
   "metadata": {},
   "outputs": [],
   "source": [
    "import sympy as sp"
   ]
  },
  {
   "cell_type": "code",
   "execution_count": 4,
   "id": "cd887cbf",
   "metadata": {},
   "outputs": [],
   "source": [
    "x = sp.symbols('x')\n",
    "De = 0.3\n",
    "Dx = 0.8\n",
    "x0 = 11\n",
    "y1 = 10.6\n",
    "y2 = 11.2\n",
    "\n",
    "log_posterior = -1/(2*De) * ((x - y1)**2 + (x - y2)**2) - (x - x0)**2 / (2*Dx)\n",
    "\n",
    "df = sp.diff(log_posterior, x)\n",
    "\n",
    "solution = sp.solve(df, x)"
   ]
  },
  {
   "cell_type": "code",
   "execution_count": 7,
   "id": "6fc3a752",
   "metadata": {},
   "outputs": [
    {
     "data": {
      "text/latex": [
       "$\\displaystyle 10.92$"
      ],
      "text/plain": [
       "10.92"
      ]
     },
     "execution_count": 7,
     "metadata": {},
     "output_type": "execute_result"
    }
   ],
   "source": [
    "round(solution[0], 2)"
   ]
  }
 ],
 "metadata": {
  "kernelspec": {
   "display_name": "Python 3",
   "language": "python",
   "name": "python3"
  },
  "language_info": {
   "codemirror_mode": {
    "name": "ipython",
    "version": 3
   },
   "file_extension": ".py",
   "mimetype": "text/x-python",
   "name": "python",
   "nbconvert_exporter": "python",
   "pygments_lexer": "ipython3",
   "version": "3.13.3"
  }
 },
 "nbformat": 4,
 "nbformat_minor": 5
}
