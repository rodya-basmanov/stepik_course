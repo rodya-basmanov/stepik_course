{
 "cells": [
  {
   "cell_type": "code",
   "execution_count": 19,
   "id": "cb06ec6f",
   "metadata": {},
   "outputs": [],
   "source": [
    "import numpy as np\n",
    "\n",
    "np.random.seed(0)\n",
    "\n",
    "# исходные параметры распределений двух классов\n",
    "r1 = 0.7\n",
    "D1 = 1.0\n",
    "mean1 = [1, -2]\n",
    "V1 = [[D1, D1 * r1], [D1 * r1, D1]]\n",
    "\n",
    "r2 = 0.5\n",
    "D2 = 2.0\n",
    "mean2 = [1, 3]\n",
    "V2 = [[D2, D2 * r2], [D2 * r2, D2]]\n",
    "\n",
    "# моделирование обучающей выборки\n",
    "N = 1000\n",
    "x1 = np.random.multivariate_normal(mean1, V1, N).T\n",
    "x2 = np.random.multivariate_normal(mean2, V2, N).T\n",
    "\n",
    "# обучающая выборка для байесовского классификатора (стандартный формат)\n",
    "x_train = np.hstack([x1, x2]).T\n",
    "y_train = np.hstack([np.ones(N) * -1, np.ones(N)])\n",
    "\n",
    "# вычисление оценок математических ожиданий\n",
    "mm1 = np.mean(x1.T, axis=0)\n",
    "mm2 = np.mean(x2.T, axis=0)\n",
    "\n",
    "# вычисление ковариационных матриц\n",
    "a = (x1.T - mm1).T\n",
    "VV1 = np.array([[np.dot(a[0], a[0]) / N, np.dot(a[0], a[1]) / N],\n",
    "                [np.dot(a[1], a[0]) / N, np.dot(a[1], a[1]) / N]])\n",
    "\n",
    "a = (x2.T - mm2).T\n",
    "VV2 = np.array([[np.dot(a[0], a[0]) / N, np.dot(a[0], a[1]) / N],\n",
    "                [np.dot(a[1], a[0]) / N, np.dot(a[1], a[1]) / N]])\n",
    "\n",
    "# параметры для гауссовского байесовского классификатора\n",
    "Py1, L1 = 0.5, 1      # вероятности появления классов\n",
    "Py2, L2 = 1 - Py1, 1  # и величины штрафов неверной классификации\n",
    "\n",
    "\n",
    "b = lambda x, v, m, l, py: np.log(l * py) - 0.5 * (x - m) @ np.linalg.inv(v) @ (x - m).T - 0.5 * np.log(\n",
    "    np.linalg.det(v))\n",
    "\n",
    "predict = []\n",
    "\n",
    "for x in x_train:\n",
    "    predict.append(np.argmax([b(x, VV1, mm1, L1, Py1), b(x, VV2, mm2, L2, Py2)]) * 2 - 1)\n",
    "\n",
    "\n",
    "predict = np.array(predict)\n",
    "Q = np.sum(predict != y_train)"
   ]
  }
 ],
 "metadata": {
  "kernelspec": {
   "display_name": "Python 3",
   "language": "python",
   "name": "python3"
  },
  "language_info": {
   "codemirror_mode": {
    "name": "ipython",
    "version": 3
   },
   "file_extension": ".py",
   "mimetype": "text/x-python",
   "name": "python",
   "nbconvert_exporter": "python",
   "pygments_lexer": "ipython3",
   "version": "3.13.3"
  }
 },
 "nbformat": 4,
 "nbformat_minor": 5
}
