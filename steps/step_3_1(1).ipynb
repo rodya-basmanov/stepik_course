{
 "cells": [
  {
   "cell_type": "code",
   "execution_count": 13,
   "id": "135e5cab",
   "metadata": {},
   "outputs": [],
   "source": [
    "import numpy as np\n",
    "\n",
    "w = np.array([2.5, -0.8, 3, 2, -0.15])\n",
    "x = np.array([1, 100, 50, 2, 500])\n",
    "y = -1\n",
    "\n",
    "M = w @ x * y\n",
    "P = 1 / (1 + np.exp(-M))\n",
    "P = round(float(P), 2)"
   ]
  },
  {
   "cell_type": "code",
   "execution_count": 14,
   "id": "cb22b07e",
   "metadata": {},
   "outputs": [
    {
     "data": {
      "text/plain": [
       "0.18"
      ]
     },
     "execution_count": 14,
     "metadata": {},
     "output_type": "execute_result"
    }
   ],
   "source": [
    "P"
   ]
  }
 ],
 "metadata": {
  "kernelspec": {
   "display_name": "Python 3",
   "language": "python",
   "name": "python3"
  },
  "language_info": {
   "codemirror_mode": {
    "name": "ipython",
    "version": 3
   },
   "file_extension": ".py",
   "mimetype": "text/x-python",
   "name": "python",
   "nbconvert_exporter": "python",
   "pygments_lexer": "ipython3",
   "version": "3.13.3"
  }
 },
 "nbformat": 4,
 "nbformat_minor": 5
}
