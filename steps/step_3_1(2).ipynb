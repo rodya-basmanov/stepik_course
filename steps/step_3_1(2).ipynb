{
 "cells": [
  {
   "cell_type": "code",
   "execution_count": 1,
   "id": "6eeb76fc",
   "metadata": {},
   "outputs": [],
   "source": [
    "import numpy as np\n",
    "\n",
    "w = np.array([-330, 1, 3, 2, -0.15])\n",
    "x = np.array([1, 240, 80, 1, 1000])\n",
    "y = 1\n",
    "\n",
    "M = w @ x * y\n",
    "P = 1 / (1 + np.exp(-M))\n",
    "P = round(float(P), 2)"
   ]
  },
  {
   "cell_type": "code",
   "execution_count": 2,
   "id": "3e84a03a",
   "metadata": {},
   "outputs": [
    {
     "data": {
      "text/plain": [
       "0.88"
      ]
     },
     "execution_count": 2,
     "metadata": {},
     "output_type": "execute_result"
    }
   ],
   "source": [
    "P"
   ]
  }
 ],
 "metadata": {
  "kernelspec": {
   "display_name": "Python 3",
   "language": "python",
   "name": "python3"
  },
  "language_info": {
   "codemirror_mode": {
    "name": "ipython",
    "version": 3
   },
   "file_extension": ".py",
   "mimetype": "text/x-python",
   "name": "python",
   "nbconvert_exporter": "python",
   "pygments_lexer": "ipython3",
   "version": "3.13.3"
  }
 },
 "nbformat": 4,
 "nbformat_minor": 5
}
