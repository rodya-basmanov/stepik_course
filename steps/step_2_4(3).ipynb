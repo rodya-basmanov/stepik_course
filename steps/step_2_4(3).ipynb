{
 "cells": [
  {
   "cell_type": "markdown",
   "id": "3039e767",
   "metadata": {},
   "source": [
    "# Подвиг 5"
   ]
  },
  {
   "cell_type": "code",
   "execution_count": 1,
   "id": "b05c18c2",
   "metadata": {},
   "outputs": [],
   "source": [
    "import numpy as np\n",
    "\n",
    "\n",
    "def func(x):\n",
    "    return 2 * x + 0.1 * x ** 3 + 2 * np.cos(3*x)\n",
    "\n",
    "def df(x):\n",
    "    return 2 + 0.3 * x ** 2 - 6 * np.sin(3*x)\n",
    "\n",
    "eta = 0.5\n",
    "x = 4\n",
    "N = 200\n",
    "a = 0.8\n",
    "G = 0\n",
    "epsilon = 0.01\n",
    "\n",
    "for i in range(N):\n",
    "    G = a * G + (1 - a) * df(x) * df(x)\n",
    "    x = x - eta * df(x)/(G ** 0.5 + epsilon)"
   ]
  }
 ],
 "metadata": {
  "kernelspec": {
   "display_name": "Python 3",
   "language": "python",
   "name": "python3"
  },
  "language_info": {
   "codemirror_mode": {
    "name": "ipython",
    "version": 3
   },
   "file_extension": ".py",
   "mimetype": "text/x-python",
   "name": "python",
   "nbconvert_exporter": "python",
   "pygments_lexer": "ipython3",
   "version": "3.13.3"
  }
 },
 "nbformat": 4,
 "nbformat_minor": 5
}
