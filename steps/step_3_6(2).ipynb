{
 "cells": [
  {
   "cell_type": "code",
   "execution_count": 21,
   "id": "f78c3f60",
   "metadata": {},
   "outputs": [],
   "source": [
    "import numpy as np\n",
    "\n",
    "np.random.seed(0)\n",
    "\n",
    "# исходные параметры распределений двух классов\n",
    "mean1 = np.array([1, -2, 0])\n",
    "mean2 = np.array([1, 3, 1])\n",
    "r = 0.7\n",
    "D = 2.0\n",
    "V = [[D, D * r, D*r*r], [D*r, D, D*r], [D*r*r, D*r, D]]\n",
    "\n",
    "# моделирование обучающей выборки\n",
    "N = 1000\n",
    "x1 = np.random.multivariate_normal(mean1, V, N).T\n",
    "x2 = np.random.multivariate_normal(mean2, V, N).T\n",
    "\n",
    "x_train = np.hstack([x1, x2]).T\n",
    "y_train = np.hstack([np.zeros(N), np.ones(N)])\n",
    "\n",
    "# здесь вычисляйте векторы математических ожиданий и ковариационную матрицу по выборке x1, x2\n",
    "mm1 = np.mean(x1.T, axis=0)\n",
    "mm2 = np.mean(x2.T, axis=0)\n",
    "\n",
    "s1 = np.cov(x1)\n",
    "s2 = np.cov(x2)\n",
    "\n",
    "VV = 0.5 * (s1 + s2)\n",
    "\n",
    "# параметры для линейного дискриминанта Фишера\n",
    "Py1, L1 = 0.5, 1  # вероятности появления классов\n",
    "Py2, L2 = 1 - Py1, 1  # и величины штрафов неверной классификации\n",
    "\n",
    "alpha1 = np.linalg.inv(VV) @ mm1\n",
    "alpha2 = np.linalg.inv(VV) @ mm2\n",
    "beta1 = np.log(L1 * Py1) - 0.5 * mm1 @ np.linalg.inv(VV) @ mm1\n",
    "beta2 = np.log(L2 * Py2) - 0.5 * mm2 @ np.linalg.inv(VV) @ mm2"
   ]
  }
 ],
 "metadata": {
  "kernelspec": {
   "display_name": "Python 3",
   "language": "python",
   "name": "python3"
  },
  "language_info": {
   "codemirror_mode": {
    "name": "ipython",
    "version": 3
   },
   "file_extension": ".py",
   "mimetype": "text/x-python",
   "name": "python",
   "nbconvert_exporter": "python",
   "pygments_lexer": "ipython3",
   "version": "3.13.3"
  }
 },
 "nbformat": 4,
 "nbformat_minor": 5
}
