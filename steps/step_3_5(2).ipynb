{
 "cells": [
  {
   "cell_type": "code",
   "execution_count": 30,
   "id": "f18227b3",
   "metadata": {},
   "outputs": [],
   "source": [
    "import numpy as np\n",
    "\n",
    "np.random.seed(0)\n",
    "\n",
    "# параметры распределений\n",
    "r1, D1, mean1 = 0.7, 1.0, [-1, -2, -1]\n",
    "V1 = [[D1, D1*r1, D1*r1*r1], [D1*r1, D1, D1*r1], [D1*r1*r1, D1*r1, D1]]\n",
    "\n",
    "r2, D2, mean2 = 0.5, 2.0, [1, 2, 1]\n",
    "V2 = [[D2, D2*r2, D2*r2*r2], [D2*r2, D2, D2*r2], [D2*r2*r2, D2*r2, D2]]\n",
    "\n",
    "N = 1000\n",
    "x1 = np.random.multivariate_normal(mean1, V1, N).T\n",
    "x2 = np.random.multivariate_normal(mean2, V2, N).T\n",
    "\n",
    "x_train = np.hstack([x1, x2]).T\n",
    "y_train = np.hstack([np.ones(N)*-1, np.ones(N)])\n",
    "\n",
    "mm1 = np.mean(x1.T, axis=0)\n",
    "mm2 = np.mean(x2.T, axis=0)\n",
    "\n",
    "VV1 = np.cov(x1)\n",
    "VV2 = np.cov(x2)\n",
    "\n",
    "Py1, Py2 = 0.5, 0.5\n",
    "L1, L2 = 1, 1\n",
    "\n",
    "\n",
    "b = lambda x, v, m, l, py: np.log(l*py) - 0.5*(x-m) @ np.linalg.inv(v) @ (x-m).T - 0.5*np.log(np.linalg.det(v))\n",
    "\n",
    "predict = []\n",
    "for x in x_train:\n",
    "    predict.append(np.argmax([b(x, VV1, mm1, L1, Py1), b(x, VV2, mm2, L2, Py2)])* 2 - 1)\n",
    "\n",
    "predict = np.array(predict)\n",
    "Q = np.sum(predict != y_train)"
   ]
  }
 ],
 "metadata": {
  "kernelspec": {
   "display_name": "Python 3",
   "language": "python",
   "name": "python3"
  },
  "language_info": {
   "codemirror_mode": {
    "name": "ipython",
    "version": 3
   },
   "file_extension": ".py",
   "mimetype": "text/x-python",
   "name": "python",
   "nbconvert_exporter": "python",
   "pygments_lexer": "ipython3",
   "version": "3.13.3"
  }
 },
 "nbformat": 4,
 "nbformat_minor": 5
}
